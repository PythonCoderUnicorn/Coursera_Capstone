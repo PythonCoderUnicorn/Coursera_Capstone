{
 "cells": [
  {
   "cell_type": "markdown",
   "metadata": {},
   "source": [
    "# Capstone Project - car collisions "
   ]
  },
  {
   "cell_type": "markdown",
   "metadata": {},
   "source": [
    "## The Query Objective"
   ]
  },
  {
   "cell_type": "markdown",
   "metadata": {},
   "source": [
    "The dataset of Seattle Car Collisions has data of pedestrians, cyclists and vehicles involved in collisions. The main objective using this dataset is to explore \n",
    "- how many collisions involve cyclists and pedestrians\n",
    "- whether the driver was distracted (inattention) was a factor\n",
    "- the frequency of cyclist collisions using date and time data\n",
    "- what areas have the most frequency of cyclist collisions\n",
    "<br>\n",
    "<br>\n",
    "The audience for this project is for pedestrians and cyclists in the Seattle area. "
   ]
  },
  {
   "cell_type": "code",
   "execution_count": 5,
   "metadata": {},
   "outputs": [],
   "source": [
    "import pandas as pd\n",
    "import numpy as np\n",
    "import matplotlib.pyplot as plt\n",
    "import folium\n",
    "import seaborn as sb"
   ]
  },
  {
   "cell_type": "code",
   "execution_count": 29,
   "metadata": {},
   "outputs": [
    {
     "data": {
      "text/html": [
       "<div>\n",
       "<style scoped>\n",
       "    .dataframe tbody tr th:only-of-type {\n",
       "        vertical-align: middle;\n",
       "    }\n",
       "\n",
       "    .dataframe tbody tr th {\n",
       "        vertical-align: top;\n",
       "    }\n",
       "\n",
       "    .dataframe thead th {\n",
       "        text-align: right;\n",
       "    }\n",
       "</style>\n",
       "<table border=\"1\" class=\"dataframe\">\n",
       "  <thead>\n",
       "    <tr style=\"text-align: right;\">\n",
       "      <th></th>\n",
       "      <th>X</th>\n",
       "      <th>Y</th>\n",
       "      <th>OBJECTID</th>\n",
       "      <th>INCKEY</th>\n",
       "      <th>COLDETKEY</th>\n",
       "      <th>REPORTNO</th>\n",
       "      <th>STATUS</th>\n",
       "      <th>ADDRTYPE</th>\n",
       "      <th>INTKEY</th>\n",
       "      <th>LOCATION</th>\n",
       "      <th>...</th>\n",
       "      <th>ROADCOND</th>\n",
       "      <th>LIGHTCOND</th>\n",
       "      <th>PEDROWNOTGRNT</th>\n",
       "      <th>SDOTCOLNUM</th>\n",
       "      <th>SPEEDING</th>\n",
       "      <th>ST_COLCODE</th>\n",
       "      <th>ST_COLDESC</th>\n",
       "      <th>SEGLANEKEY</th>\n",
       "      <th>CROSSWALKKEY</th>\n",
       "      <th>HITPARKEDCAR</th>\n",
       "    </tr>\n",
       "  </thead>\n",
       "  <tbody>\n",
       "    <tr>\n",
       "      <th>0</th>\n",
       "      <td>-122.356511</td>\n",
       "      <td>47.517361</td>\n",
       "      <td>1</td>\n",
       "      <td>327920</td>\n",
       "      <td>329420</td>\n",
       "      <td>3856094</td>\n",
       "      <td>Matched</td>\n",
       "      <td>Intersection</td>\n",
       "      <td>34911.0</td>\n",
       "      <td>17TH AVE SW AND SW ROXBURY ST</td>\n",
       "      <td>...</td>\n",
       "      <td>Dry</td>\n",
       "      <td>Daylight</td>\n",
       "      <td>NaN</td>\n",
       "      <td>NaN</td>\n",
       "      <td>NaN</td>\n",
       "      <td>10</td>\n",
       "      <td>Entering at angle</td>\n",
       "      <td>0</td>\n",
       "      <td>0</td>\n",
       "      <td>N</td>\n",
       "    </tr>\n",
       "    <tr>\n",
       "      <th>1</th>\n",
       "      <td>-122.361405</td>\n",
       "      <td>47.702064</td>\n",
       "      <td>2</td>\n",
       "      <td>46200</td>\n",
       "      <td>46200</td>\n",
       "      <td>1791736</td>\n",
       "      <td>Matched</td>\n",
       "      <td>Block</td>\n",
       "      <td>NaN</td>\n",
       "      <td>HOLMAN RD NW BETWEEN 4TH AVE NW AND 3RD AVE NW</td>\n",
       "      <td>...</td>\n",
       "      <td>Wet</td>\n",
       "      <td>Dusk</td>\n",
       "      <td>NaN</td>\n",
       "      <td>5101020.0</td>\n",
       "      <td>NaN</td>\n",
       "      <td>13</td>\n",
       "      <td>From same direction - both going straight - bo...</td>\n",
       "      <td>0</td>\n",
       "      <td>0</td>\n",
       "      <td>N</td>\n",
       "    </tr>\n",
       "    <tr>\n",
       "      <th>2</th>\n",
       "      <td>-122.317414</td>\n",
       "      <td>47.664028</td>\n",
       "      <td>3</td>\n",
       "      <td>1212</td>\n",
       "      <td>1212</td>\n",
       "      <td>3507861</td>\n",
       "      <td>Matched</td>\n",
       "      <td>Block</td>\n",
       "      <td>NaN</td>\n",
       "      <td>ROOSEVELT WAY NE BETWEEN NE 47TH ST AND NE 50T...</td>\n",
       "      <td>...</td>\n",
       "      <td>Dry</td>\n",
       "      <td>Dark - Street Lights On</td>\n",
       "      <td>NaN</td>\n",
       "      <td>NaN</td>\n",
       "      <td>NaN</td>\n",
       "      <td>30</td>\n",
       "      <td>From opposite direction - all others</td>\n",
       "      <td>0</td>\n",
       "      <td>0</td>\n",
       "      <td>N</td>\n",
       "    </tr>\n",
       "    <tr>\n",
       "      <th>3</th>\n",
       "      <td>-122.318234</td>\n",
       "      <td>47.619927</td>\n",
       "      <td>4</td>\n",
       "      <td>327909</td>\n",
       "      <td>329409</td>\n",
       "      <td>EA03026</td>\n",
       "      <td>Matched</td>\n",
       "      <td>Intersection</td>\n",
       "      <td>29054.0</td>\n",
       "      <td>11TH AVE E AND E JOHN ST</td>\n",
       "      <td>...</td>\n",
       "      <td>Wet</td>\n",
       "      <td>Dark - Street Lights On</td>\n",
       "      <td>NaN</td>\n",
       "      <td>NaN</td>\n",
       "      <td>NaN</td>\n",
       "      <td>0</td>\n",
       "      <td>Vehicle going straight hits pedestrian</td>\n",
       "      <td>0</td>\n",
       "      <td>0</td>\n",
       "      <td>N</td>\n",
       "    </tr>\n",
       "    <tr>\n",
       "      <th>4</th>\n",
       "      <td>-122.351724</td>\n",
       "      <td>47.560306</td>\n",
       "      <td>5</td>\n",
       "      <td>104900</td>\n",
       "      <td>104900</td>\n",
       "      <td>2671936</td>\n",
       "      <td>Matched</td>\n",
       "      <td>Block</td>\n",
       "      <td>NaN</td>\n",
       "      <td>WEST MARGINAL WAY SW BETWEEN SW ALASKA ST AND ...</td>\n",
       "      <td>...</td>\n",
       "      <td>Ice</td>\n",
       "      <td>Dark - Street Lights On</td>\n",
       "      <td>NaN</td>\n",
       "      <td>9359012.0</td>\n",
       "      <td>Y</td>\n",
       "      <td>50</td>\n",
       "      <td>Fixed object</td>\n",
       "      <td>0</td>\n",
       "      <td>0</td>\n",
       "      <td>N</td>\n",
       "    </tr>\n",
       "  </tbody>\n",
       "</table>\n",
       "<p>5 rows × 40 columns</p>\n",
       "</div>"
      ],
      "text/plain": [
       "            X          Y  OBJECTID  INCKEY  COLDETKEY REPORTNO   STATUS  \\\n",
       "0 -122.356511  47.517361         1  327920     329420  3856094  Matched   \n",
       "1 -122.361405  47.702064         2   46200      46200  1791736  Matched   \n",
       "2 -122.317414  47.664028         3    1212       1212  3507861  Matched   \n",
       "3 -122.318234  47.619927         4  327909     329409  EA03026  Matched   \n",
       "4 -122.351724  47.560306         5  104900     104900  2671936  Matched   \n",
       "\n",
       "       ADDRTYPE   INTKEY                                           LOCATION  \\\n",
       "0  Intersection  34911.0                      17TH AVE SW AND SW ROXBURY ST   \n",
       "1         Block      NaN     HOLMAN RD NW BETWEEN 4TH AVE NW AND 3RD AVE NW   \n",
       "2         Block      NaN  ROOSEVELT WAY NE BETWEEN NE 47TH ST AND NE 50T...   \n",
       "3  Intersection  29054.0                           11TH AVE E AND E JOHN ST   \n",
       "4         Block      NaN  WEST MARGINAL WAY SW BETWEEN SW ALASKA ST AND ...   \n",
       "\n",
       "   ... ROADCOND                LIGHTCOND PEDROWNOTGRNT SDOTCOLNUM SPEEDING  \\\n",
       "0  ...      Dry                 Daylight           NaN        NaN      NaN   \n",
       "1  ...      Wet                     Dusk           NaN  5101020.0      NaN   \n",
       "2  ...      Dry  Dark - Street Lights On           NaN        NaN      NaN   \n",
       "3  ...      Wet  Dark - Street Lights On           NaN        NaN      NaN   \n",
       "4  ...      Ice  Dark - Street Lights On           NaN  9359012.0        Y   \n",
       "\n",
       "   ST_COLCODE                                         ST_COLDESC  SEGLANEKEY  \\\n",
       "0          10                                  Entering at angle           0   \n",
       "1          13  From same direction - both going straight - bo...           0   \n",
       "2          30               From opposite direction - all others           0   \n",
       "3           0             Vehicle going straight hits pedestrian           0   \n",
       "4          50                                       Fixed object           0   \n",
       "\n",
       "   CROSSWALKKEY  HITPARKEDCAR  \n",
       "0             0             N  \n",
       "1             0             N  \n",
       "2             0             N  \n",
       "3             0             N  \n",
       "4             0             N  \n",
       "\n",
       "[5 rows x 40 columns]"
      ]
     },
     "execution_count": 29,
     "metadata": {},
     "output_type": "execute_result"
    }
   ],
   "source": [
    "df = pd.read_csv('Collisions.csv')\n",
    "df.head()"
   ]
  },
  {
   "cell_type": "code",
   "execution_count": 9,
   "metadata": {},
   "outputs": [
    {
     "data": {
      "text/plain": [
       "Index(['X', 'Y', 'OBJECTID', 'INCKEY', 'COLDETKEY', 'REPORTNO', 'STATUS',\n",
       "       'ADDRTYPE', 'INTKEY', 'LOCATION', 'EXCEPTRSNCODE', 'EXCEPTRSNDESC',\n",
       "       'SEVERITYCODE', 'SEVERITYDESC', 'COLLISIONTYPE', 'PERSONCOUNT',\n",
       "       'PEDCOUNT', 'PEDCYLCOUNT', 'VEHCOUNT', 'INJURIES', 'SERIOUSINJURIES',\n",
       "       'FATALITIES', 'INCDATE', 'INCDTTM', 'JUNCTIONTYPE', 'SDOT_COLCODE',\n",
       "       'SDOT_COLDESC', 'INATTENTIONIND', 'UNDERINFL', 'WEATHER', 'ROADCOND',\n",
       "       'LIGHTCOND', 'PEDROWNOTGRNT', 'SDOTCOLNUM', 'SPEEDING', 'ST_COLCODE',\n",
       "       'ST_COLDESC', 'SEGLANEKEY', 'CROSSWALKKEY', 'HITPARKEDCAR'],\n",
       "      dtype='object')"
      ]
     },
     "execution_count": 9,
     "metadata": {},
     "output_type": "execute_result"
    }
   ],
   "source": [
    "df.columns"
   ]
  },
  {
   "cell_type": "code",
   "execution_count": 14,
   "metadata": {},
   "outputs": [
    {
     "data": {
      "text/plain": [
       "(221738, 40)"
      ]
     },
     "execution_count": 14,
     "metadata": {},
     "output_type": "execute_result"
    }
   ],
   "source": [
    "df.shape"
   ]
  },
  {
   "cell_type": "markdown",
   "metadata": {},
   "source": [
    "## Background Information"
   ]
  },
  {
   "cell_type": "markdown",
   "metadata": {},
   "source": [
    "This dataset is of all the collisions provided by Seattle Police Department (SPD) and recorded by Traffic Records.  This dataset includes all types of collisions and datatypes. The timeframe is from 2004 to Oct 1 2020  when the dataset was downloaded. "
   ]
  },
  {
   "cell_type": "markdown",
   "metadata": {},
   "source": [
    "## Data Description"
   ]
  },
  {
   "cell_type": "markdown",
   "metadata": {},
   "source": [
    "The dataset has 40 columns and over 221,000 rows of data. The columns that will be used for the Data Understanding will be related to bicyles, injuries, number of vehicles involved in collisions, date and time of collisions, and the factor of the driver paying attention."
   ]
  },
  {
   "cell_type": "markdown",
   "metadata": {},
   "source": [
    "<h4> columns of interest description </h4>\n",
    "\n",
    "- PERSONCOUNT = total number of people involved in the collision\n",
    "- PEDCOUNT = number of pedestrians involved in the collision. This is entered by the state.\n",
    "- PEDCYLCOUNT = number of bicycles involved in the collision. This is entered by the state\n",
    "- VEHCOUNT = number of vehicles involved in the collision. This is entered by the state.\n",
    "- INJURIES = number of total injuries in the collision. This is entered by the state.\n",
    "- SERIOUSINJURIES = number of serious injuries in the collision. This is entered by the state.\n",
    "- FATALITIES =  number of fatalities in the collision. This is entered by the state.\n",
    "\n",
    "- INCDTTM = The date and time of the incident.\n",
    "- INATTENTIONIND = Whether or not collision was due to inattention. (Y/N)\n",
    "\n",
    "- LOCATION = Description of the general location of the collision\n",
    "- ADDRTYPE = Collision address type: Alley, Block, Intersection"
   ]
  },
  {
   "cell_type": "markdown",
   "metadata": {},
   "source": [
    "## Data Preparation"
   ]
  },
  {
   "cell_type": "code",
   "execution_count": 16,
   "metadata": {
    "scrolled": true
   },
   "outputs": [
    {
     "data": {
      "text/plain": [
       "X                    7478\n",
       "Y                    7478\n",
       "OBJECTID                0\n",
       "INCKEY                  0\n",
       "COLDETKEY               0\n",
       "REPORTNO                0\n",
       "STATUS                  0\n",
       "ADDRTYPE             3714\n",
       "INTKEY             149711\n",
       "LOCATION             4593\n",
       "EXCEPTRSNCODE      120403\n",
       "EXCEPTRSNDESC      209953\n",
       "SEVERITYCODE            1\n",
       "SEVERITYDESC            0\n",
       "COLLISIONTYPE       26451\n",
       "PERSONCOUNT             0\n",
       "PEDCOUNT                0\n",
       "PEDCYLCOUNT             0\n",
       "VEHCOUNT                0\n",
       "INJURIES                0\n",
       "SERIOUSINJURIES         0\n",
       "FATALITIES              0\n",
       "INCDATE                 0\n",
       "INCDTTM                 0\n",
       "JUNCTIONTYPE        11979\n",
       "SDOT_COLCODE            1\n",
       "SDOT_COLDESC            1\n",
       "INATTENTIONIND     191550\n",
       "UNDERINFL           26431\n",
       "WEATHER             26641\n",
       "ROADCOND            26560\n",
       "LIGHTCOND           26730\n",
       "PEDROWNOTGRNT      216543\n",
       "SDOTCOLNUM          94533\n",
       "SPEEDING           211802\n",
       "ST_COLCODE           9413\n",
       "ST_COLDESC          26451\n",
       "SEGLANEKEY              0\n",
       "CROSSWALKKEY            0\n",
       "HITPARKEDCAR            0\n",
       "dtype: int64"
      ]
     },
     "execution_count": 16,
     "metadata": {},
     "output_type": "execute_result"
    }
   ],
   "source": [
    "# check for missing values in df\n",
    "missing_values = df.isnull().sum()\n",
    "missing_values"
   ]
  },
  {
   "cell_type": "markdown",
   "metadata": {},
   "source": [
    "<h4> columns of interest with any missing values summarized </h4>\n",
    "\n",
    "   - PERSONCOUNT             0\n",
    "   - PEDCOUNT                0\n",
    "   - PEDCYLCOUNT             0\n",
    "   - VEHCOUNT                0\n",
    "   - INJURIES                0\n",
    "   - SERIOUSINJURIES         0\n",
    "   - FATALITIES              0\n",
    "   - INCDATE                 0\n",
    "   - INCDTTM                 0\n",
    "   - INATTENTIONIND     191550\n",
    "   - LOCATION             4593\n",
    "   - ADDRTYPE             3714\n",
    "\n",
    "\n",
    "column INATTENTIONIND has many missing values"
   ]
  },
  {
   "cell_type": "code",
   "execution_count": 24,
   "metadata": {},
   "outputs": [
    {
     "data": {
      "text/plain": [
       "4593"
      ]
     },
     "execution_count": 24,
     "metadata": {},
     "output_type": "execute_result"
    }
   ],
   "source": [
    "# find the the number of misisng values for just column LOCATION\n",
    "location_missing = df['LOCATION'].isnull().sum()\n",
    "location_missing"
   ]
  },
  {
   "cell_type": "code",
   "execution_count": 25,
   "metadata": {},
   "outputs": [
    {
     "data": {
      "text/plain": [
       "8869520"
      ]
     },
     "execution_count": 25,
     "metadata": {},
     "output_type": "execute_result"
    }
   ],
   "source": [
    "# get the total missing values from dataframe\n",
    "total_missing = np.product(df.shape)\n",
    "total_missing "
   ]
  },
  {
   "cell_type": "code",
   "execution_count": 26,
   "metadata": {},
   "outputs": [
    {
     "data": {
      "text/plain": [
       "4593"
      ]
     },
     "execution_count": 26,
     "metadata": {},
     "output_type": "execute_result"
    }
   ],
   "source": [
    "TOTAL_missing = location_missing.sum()\n",
    "TOTAL_missing "
   ]
  },
  {
   "cell_type": "code",
   "execution_count": 27,
   "metadata": {},
   "outputs": [
    {
     "data": {
      "text/plain": [
       "0.05178408752672072"
      ]
     },
     "execution_count": 27,
     "metadata": {},
     "output_type": "execute_result"
    }
   ],
   "source": [
    "# determine the percent of LOCATION data with missing values represents \n",
    "percent_missing = (TOTAL_missing / total_missing  ) *100\n",
    "percent_missing "
   ]
  },
  {
   "cell_type": "markdown",
   "metadata": {},
   "source": [
    "The total of all LOCATION missing values of dataset represents only 0.05% of data. This column can be used later for map visualizations"
   ]
  },
  {
   "cell_type": "code",
   "execution_count": 30,
   "metadata": {
    "scrolled": true
   },
   "outputs": [
    {
     "data": {
      "text/html": [
       "<div>\n",
       "<style scoped>\n",
       "    .dataframe tbody tr th:only-of-type {\n",
       "        vertical-align: middle;\n",
       "    }\n",
       "\n",
       "    .dataframe tbody tr th {\n",
       "        vertical-align: top;\n",
       "    }\n",
       "\n",
       "    .dataframe thead th {\n",
       "        text-align: right;\n",
       "    }\n",
       "</style>\n",
       "<table border=\"1\" class=\"dataframe\">\n",
       "  <thead>\n",
       "    <tr style=\"text-align: right;\">\n",
       "      <th></th>\n",
       "      <th>OBJECTID</th>\n",
       "      <th>INCKEY</th>\n",
       "      <th>COLDETKEY</th>\n",
       "      <th>REPORTNO</th>\n",
       "      <th>STATUS</th>\n",
       "      <th>SEVERITYDESC</th>\n",
       "      <th>PERSONCOUNT</th>\n",
       "      <th>PEDCOUNT</th>\n",
       "      <th>PEDCYLCOUNT</th>\n",
       "      <th>VEHCOUNT</th>\n",
       "      <th>INJURIES</th>\n",
       "      <th>SERIOUSINJURIES</th>\n",
       "      <th>FATALITIES</th>\n",
       "      <th>INCDATE</th>\n",
       "      <th>INCDTTM</th>\n",
       "      <th>SEGLANEKEY</th>\n",
       "      <th>CROSSWALKKEY</th>\n",
       "      <th>HITPARKEDCAR</th>\n",
       "    </tr>\n",
       "  </thead>\n",
       "  <tbody>\n",
       "    <tr>\n",
       "      <th>0</th>\n",
       "      <td>1</td>\n",
       "      <td>327920</td>\n",
       "      <td>329420</td>\n",
       "      <td>3856094</td>\n",
       "      <td>Matched</td>\n",
       "      <td>Property Damage Only Collision</td>\n",
       "      <td>2</td>\n",
       "      <td>0</td>\n",
       "      <td>0</td>\n",
       "      <td>2</td>\n",
       "      <td>0</td>\n",
       "      <td>0</td>\n",
       "      <td>0</td>\n",
       "      <td>2020/01/19 00:00:00+00</td>\n",
       "      <td>1/19/2020 9:01:00 AM</td>\n",
       "      <td>0</td>\n",
       "      <td>0</td>\n",
       "      <td>N</td>\n",
       "    </tr>\n",
       "    <tr>\n",
       "      <th>1</th>\n",
       "      <td>2</td>\n",
       "      <td>46200</td>\n",
       "      <td>46200</td>\n",
       "      <td>1791736</td>\n",
       "      <td>Matched</td>\n",
       "      <td>Property Damage Only Collision</td>\n",
       "      <td>2</td>\n",
       "      <td>0</td>\n",
       "      <td>0</td>\n",
       "      <td>2</td>\n",
       "      <td>0</td>\n",
       "      <td>0</td>\n",
       "      <td>0</td>\n",
       "      <td>2005/04/11 00:00:00+00</td>\n",
       "      <td>4/11/2005 6:31:00 PM</td>\n",
       "      <td>0</td>\n",
       "      <td>0</td>\n",
       "      <td>N</td>\n",
       "    </tr>\n",
       "    <tr>\n",
       "      <th>2</th>\n",
       "      <td>3</td>\n",
       "      <td>1212</td>\n",
       "      <td>1212</td>\n",
       "      <td>3507861</td>\n",
       "      <td>Matched</td>\n",
       "      <td>Injury Collision</td>\n",
       "      <td>2</td>\n",
       "      <td>0</td>\n",
       "      <td>0</td>\n",
       "      <td>2</td>\n",
       "      <td>1</td>\n",
       "      <td>0</td>\n",
       "      <td>0</td>\n",
       "      <td>2013/03/31 00:00:00+00</td>\n",
       "      <td>3/31/2013 2:09:00 AM</td>\n",
       "      <td>0</td>\n",
       "      <td>0</td>\n",
       "      <td>N</td>\n",
       "    </tr>\n",
       "    <tr>\n",
       "      <th>3</th>\n",
       "      <td>4</td>\n",
       "      <td>327909</td>\n",
       "      <td>329409</td>\n",
       "      <td>EA03026</td>\n",
       "      <td>Matched</td>\n",
       "      <td>Injury Collision</td>\n",
       "      <td>3</td>\n",
       "      <td>1</td>\n",
       "      <td>0</td>\n",
       "      <td>1</td>\n",
       "      <td>1</td>\n",
       "      <td>0</td>\n",
       "      <td>0</td>\n",
       "      <td>2020/01/06 00:00:00+00</td>\n",
       "      <td>1/6/2020 5:55:00 PM</td>\n",
       "      <td>0</td>\n",
       "      <td>0</td>\n",
       "      <td>N</td>\n",
       "    </tr>\n",
       "    <tr>\n",
       "      <th>4</th>\n",
       "      <td>5</td>\n",
       "      <td>104900</td>\n",
       "      <td>104900</td>\n",
       "      <td>2671936</td>\n",
       "      <td>Matched</td>\n",
       "      <td>Injury Collision</td>\n",
       "      <td>2</td>\n",
       "      <td>0</td>\n",
       "      <td>0</td>\n",
       "      <td>1</td>\n",
       "      <td>1</td>\n",
       "      <td>0</td>\n",
       "      <td>0</td>\n",
       "      <td>2009/12/25 00:00:00+00</td>\n",
       "      <td>12/25/2009 7:00:00 PM</td>\n",
       "      <td>0</td>\n",
       "      <td>0</td>\n",
       "      <td>N</td>\n",
       "    </tr>\n",
       "  </tbody>\n",
       "</table>\n",
       "</div>"
      ],
      "text/plain": [
       "   OBJECTID  INCKEY  COLDETKEY REPORTNO   STATUS  \\\n",
       "0         1  327920     329420  3856094  Matched   \n",
       "1         2   46200      46200  1791736  Matched   \n",
       "2         3    1212       1212  3507861  Matched   \n",
       "3         4  327909     329409  EA03026  Matched   \n",
       "4         5  104900     104900  2671936  Matched   \n",
       "\n",
       "                     SEVERITYDESC  PERSONCOUNT  PEDCOUNT  PEDCYLCOUNT  \\\n",
       "0  Property Damage Only Collision            2         0            0   \n",
       "1  Property Damage Only Collision            2         0            0   \n",
       "2                Injury Collision            2         0            0   \n",
       "3                Injury Collision            3         1            0   \n",
       "4                Injury Collision            2         0            0   \n",
       "\n",
       "   VEHCOUNT  INJURIES  SERIOUSINJURIES  FATALITIES                 INCDATE  \\\n",
       "0         2         0                0           0  2020/01/19 00:00:00+00   \n",
       "1         2         0                0           0  2005/04/11 00:00:00+00   \n",
       "2         2         1                0           0  2013/03/31 00:00:00+00   \n",
       "3         1         1                0           0  2020/01/06 00:00:00+00   \n",
       "4         1         1                0           0  2009/12/25 00:00:00+00   \n",
       "\n",
       "                 INCDTTM  SEGLANEKEY  CROSSWALKKEY HITPARKEDCAR  \n",
       "0   1/19/2020 9:01:00 AM           0             0            N  \n",
       "1   4/11/2005 6:31:00 PM           0             0            N  \n",
       "2   3/31/2013 2:09:00 AM           0             0            N  \n",
       "3    1/6/2020 5:55:00 PM           0             0            N  \n",
       "4  12/25/2009 7:00:00 PM           0             0            N  "
      ]
     },
     "execution_count": 30,
     "metadata": {},
     "output_type": "execute_result"
    }
   ],
   "source": [
    "df_dropped = df.dropna(axis=1)\n",
    "df_dropped.head()"
   ]
  },
  {
   "cell_type": "code",
   "execution_count": 18,
   "metadata": {},
   "outputs": [
    {
     "data": {
      "text/plain": [
       "(221738, 18)"
      ]
     },
     "execution_count": 18,
     "metadata": {},
     "output_type": "execute_result"
    }
   ],
   "source": [
    "df_dropped.shape"
   ]
  },
  {
   "cell_type": "code",
   "execution_count": 19,
   "metadata": {},
   "outputs": [
    {
     "data": {
      "text/plain": [
       "OBJECTID           0\n",
       "INCKEY             0\n",
       "COLDETKEY          0\n",
       "REPORTNO           0\n",
       "STATUS             0\n",
       "SEVERITYDESC       0\n",
       "PERSONCOUNT        0\n",
       "PEDCOUNT           0\n",
       "PEDCYLCOUNT        0\n",
       "VEHCOUNT           0\n",
       "INJURIES           0\n",
       "SERIOUSINJURIES    0\n",
       "FATALITIES         0\n",
       "INCDATE            0\n",
       "INCDTTM            0\n",
       "SEGLANEKEY         0\n",
       "CROSSWALKKEY       0\n",
       "HITPARKEDCAR       0\n",
       "dtype: int64"
      ]
     },
     "execution_count": 19,
     "metadata": {},
     "output_type": "execute_result"
    }
   ],
   "source": [
    "df_dropped.isnull().sum()"
   ]
  },
  {
   "cell_type": "markdown",
   "metadata": {},
   "source": [
    "The df_dropped dataset now has 18 columns wide instead of 40 with no missing values. The columns of interest are all numeric and ready for use. "
   ]
  },
  {
   "cell_type": "code",
   "execution_count": null,
   "metadata": {},
   "outputs": [],
   "source": []
  }
 ],
 "metadata": {
  "kernelspec": {
   "display_name": "Python 3",
   "language": "python",
   "name": "python3"
  },
  "language_info": {
   "codemirror_mode": {
    "name": "ipython",
    "version": 3
   },
   "file_extension": ".py",
   "mimetype": "text/x-python",
   "name": "python",
   "nbconvert_exporter": "python",
   "pygments_lexer": "ipython3",
   "version": "3.7.4"
  }
 },
 "nbformat": 4,
 "nbformat_minor": 2
}
